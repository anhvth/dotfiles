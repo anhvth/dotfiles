{
 "cells": [
  {
   "cell_type": "code",
   "execution_count": null,
   "id": "e4ce96c0",
   "metadata": {},
   "outputs": [],
   "source": []
  },
  {
   "cell_type": "code",
   "execution_count": 3,
   "id": "f5d69345",
   "metadata": {},
   "outputs": [
    {
     "ename": "ModuleNotFoundError",
     "evalue": "No module named 'llamafactory'",
     "output_type": "error",
     "traceback": [
      "\u001b[31m---------------------------------------------------------------------------\u001b[39m",
      "\u001b[31mModuleNotFoundError\u001b[39m                       Traceback (most recent call last)",
      "\u001b[36mCell\u001b[39m\u001b[36m \u001b[39m\u001b[32mIn[3]\u001b[39m\u001b[32m, line 1\u001b[39m\n\u001b[32m----> \u001b[39m\u001b[32m1\u001b[39m \u001b[38;5;28;01mfrom\u001b[39;00m\u001b[38;5;250m \u001b[39m\u001b[34;01mllamafactory\u001b[39;00m\u001b[38;5;250m \u001b[39m\u001b[38;5;28;01mimport\u001b[39;00m run_exp\n\u001b[32m      3\u001b[39m \u001b[38;5;66;03m# Demo code for training with LLaMA-Factory\u001b[39;00m\n\u001b[32m      4\u001b[39m \u001b[38;5;66;03m# This assumes LLaMA-Factory is installed and configured.\u001b[39;00m\n\u001b[32m      5\u001b[39m \u001b[38;5;66;03m# Replace placeholders with your actual paths and parameters.\u001b[39;00m\n\u001b[32m      6\u001b[39m \n\u001b[32m      7\u001b[39m \n\u001b[32m      8\u001b[39m \u001b[38;5;66;03m# Define training configuration\u001b[39;00m\n\u001b[32m      9\u001b[39m config = {\n\u001b[32m     10\u001b[39m     \u001b[33m\"\u001b[39m\u001b[33mmodel_name_or_path\u001b[39m\u001b[33m\"\u001b[39m: \u001b[33m\"\u001b[39m\u001b[33mpath/to/your/model\u001b[39m\u001b[33m\"\u001b[39m,  \u001b[38;5;66;03m# e.g., \"meta-llama/Llama-2-7b-hf\"\u001b[39;00m\n\u001b[32m     11\u001b[39m     \u001b[33m\"\u001b[39m\u001b[33mdataset\u001b[39m\u001b[33m\"\u001b[39m: \u001b[33m\"\u001b[39m\u001b[33mpath/to/your/dataset\u001b[39m\u001b[33m\"\u001b[39m,  \u001b[38;5;66;03m# e.g., \"alpaca_gpt4_en\"\u001b[39;00m\n\u001b[32m   (...)\u001b[39m\u001b[32m     22\u001b[39m     \u001b[33m\"\u001b[39m\u001b[33moverwrite_output_dir\u001b[39m\u001b[33m\"\u001b[39m: \u001b[38;5;28;01mTrue\u001b[39;00m,\n\u001b[32m     23\u001b[39m }\n",
      "\u001b[31mModuleNotFoundError\u001b[39m: No module named 'llamafactory'"
     ]
    }
   ],
   "source": [
    "from llamafactory import run_exp\n",
    "\n",
    "# Demo code for training with LLaMA-Factory\n",
    "# This assumes LLaMA-Factory is installed and configured.\n",
    "# Replace placeholders with your actual paths and parameters.\n",
    "\n",
    "\n",
    "# Define training configuration\n",
    "config = {\n",
    "    \"model_name_or_path\": \"path/to/your/model\",  # e.g., \"meta-llama/Llama-2-7b-hf\"\n",
    "    \"dataset\": \"path/to/your/dataset\",  # e.g., \"alpaca_gpt4_en\"\n",
    "    \"output_dir\": \"path/to/output/dir\",\n",
    "    \"num_train_epochs\": 3,\n",
    "    \"per_device_train_batch_size\": 4,\n",
    "    \"gradient_accumulation_steps\": 2,\n",
    "    \"learning_rate\": 2e-5,\n",
    "    \"save_steps\": 500,\n",
    "    \"logging_steps\": 10,\n",
    "    \"fp16\": True,\n",
    "    \"do_train\": True,\n",
    "    \"do_eval\": False,\n",
    "    \"overwrite_output_dir\": True,\n",
    "}\n",
    "\n",
    "# Run the training experiment\n",
    "run_exp(config)"
   ]
  },
  {
   "cell_type": "code",
   "execution_count": null,
   "id": "292b4d6f",
   "metadata": {},
   "outputs": [],
   "source": []
  }
 ],
 "metadata": {
  "kernelspec": {
   "display_name": "Python 3 (ipykernel)",
   "language": "python",
   "name": "python3"
  },
  "language_info": {
   "codemirror_mode": {
    "name": "ipython",
    "version": 3
   },
   "file_extension": ".py",
   "mimetype": "text/x-python",
   "name": "python",
   "nbconvert_exporter": "python",
   "pygments_lexer": "ipython3",
   "version": "3.12.11"
  }
 },
 "nbformat": 4,
 "nbformat_minor": 5
}
